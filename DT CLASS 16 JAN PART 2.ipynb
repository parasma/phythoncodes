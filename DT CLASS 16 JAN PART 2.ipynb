{
 "cells": [
  {
   "cell_type": "code",
   "execution_count": 5,
   "id": "9bbd0cf5",
   "metadata": {},
   "outputs": [],
   "source": [
    "def my_func(*args):\n",
    "    for i in args:\n",
    "        print('my args:',i)"
   ]
  },
  {
   "cell_type": "code",
   "execution_count": 6,
   "id": "8db77180",
   "metadata": {},
   "outputs": [
    {
     "name": "stdout",
     "output_type": "stream",
     "text": [
      "my args: india\n",
      "my args: 56\n",
      "my args: bengaluru\n",
      "my args: 30.4\n",
      "my args: 234\n"
     ]
    }
   ],
   "source": [
    "my_func('india',56,'bengaluru',30.40,234)"
   ]
  },
  {
   "cell_type": "code",
   "execution_count": 7,
   "id": "ce524828",
   "metadata": {},
   "outputs": [],
   "source": [
    "def my_kwargs(**kwargs):\n",
    "    for  keys ,values in kwargs. item():\n",
    "        print(key,values)"
   ]
  },
  {
   "cell_type": "code",
   "execution_count": 1,
   "id": "55d1e57e",
   "metadata": {},
   "outputs": [
    {
     "ename": "NameError",
     "evalue": "name 'my_kwargs' is not defined",
     "output_type": "error",
     "traceback": [
      "\u001b[1;31m---------------------------------------------------------------------------\u001b[0m",
      "\u001b[1;31mNameError\u001b[0m                                 Traceback (most recent call last)",
      "\u001b[1;32m~\\AppData\\Local\\Temp/ipykernel_7068/4203853238.py\u001b[0m in \u001b[0;36m<module>\u001b[1;34m\u001b[0m\n\u001b[1;32m----> 1\u001b[1;33m \u001b[0mmy_kwargs\u001b[0m\u001b[1;33m(\u001b[0m\u001b[0mstudents\u001b[0m\u001b[1;33m=\u001b[0m\u001b[1;33m[\u001b[0m\u001b[1;34m'ram'\u001b[0m\u001b[1;33m,\u001b[0m\u001b[1;34m'shivu'\u001b[0m\u001b[1;33m]\u001b[0m\u001b[1;33m,\u001b[0m\u001b[0mmarks\u001b[0m\u001b[1;33m=\u001b[0m\u001b[1;33m[\u001b[0m\u001b[1;36m70\u001b[0m\u001b[1;33m,\u001b[0m\u001b[1;36m75\u001b[0m\u001b[1;33m]\u001b[0m\u001b[1;33m)\u001b[0m\u001b[1;33m\u001b[0m\u001b[1;33m\u001b[0m\u001b[0m\n\u001b[0m",
      "\u001b[1;31mNameError\u001b[0m: name 'my_kwargs' is not defined"
     ]
    }
   ],
   "source": [
    "my_kwargs(students=['ram','shivu'],marks=[70,75])"
   ]
  },
  {
   "cell_type": "code",
   "execution_count": 12,
   "id": "be86cd42",
   "metadata": {},
   "outputs": [],
   "source": [
    "def even_check(num):\n",
    "    if num%2==0:\n",
    "        return True\n",
    "        "
   ]
  },
  {
   "cell_type": "code",
   "execution_count": 13,
   "id": "30632f71",
   "metadata": {},
   "outputs": [
    {
     "data": {
      "text/plain": [
       "[0, 2, 4, 6, 8, 10, 12, 14, 16, 18, 20, 22, 24, 26, 28, 30, 32, 34, 36, 38]"
      ]
     },
     "execution_count": 13,
     "metadata": {},
     "output_type": "execute_result"
    }
   ],
   "source": [
    "lst=range(40)\n",
    "list(filter(even_check,lst))"
   ]
  },
  {
   "cell_type": "code",
   "execution_count": 15,
   "id": "417dd749",
   "metadata": {},
   "outputs": [
    {
     "data": {
      "text/plain": [
       "[0, 2, 4, 6, 8, 10, 12, 14, 16, 18, 20, 22, 24, 26, 28, 30, 32, 34, 36, 38]"
      ]
     },
     "execution_count": 15,
     "metadata": {},
     "output_type": "execute_result"
    }
   ],
   "source": [
    "list(filter(lambda x:x%2==0,lst))"
   ]
  },
  {
   "cell_type": "code",
   "execution_count": 16,
   "id": "18045bf5",
   "metadata": {},
   "outputs": [],
   "source": [
    "#who scored less than 35\n",
    "def total_marks(marks):\n",
    "    if marks <35:\n",
    "        return marks"
   ]
  },
  {
   "cell_type": "code",
   "execution_count": 18,
   "id": "39411255",
   "metadata": {},
   "outputs": [],
   "source": [
    "score=[45,50,30,60,32,30,32,33,31,35]"
   ]
  },
  {
   "cell_type": "code",
   "execution_count": 19,
   "id": "f74ed457",
   "metadata": {},
   "outputs": [],
   "source": [
    "failed=list(filter(total_marks,score))"
   ]
  },
  {
   "cell_type": "code",
   "execution_count": 20,
   "id": "1eed039e",
   "metadata": {},
   "outputs": [
    {
     "data": {
      "text/plain": [
       "[30, 32, 30, 32, 33, 31]"
      ]
     },
     "execution_count": 20,
     "metadata": {},
     "output_type": "execute_result"
    }
   ],
   "source": [
    "failed"
   ]
  },
  {
   "cell_type": "code",
   "execution_count": 21,
   "id": "0634d6c3",
   "metadata": {},
   "outputs": [],
   "source": [
    "#global and local variable\n",
    "#global variable -varibale define outside the function.this variable can be used outside as well as inside the function.\n"
   ]
  },
  {
   "cell_type": "code",
   "execution_count": 26,
   "id": "59a8cc7b",
   "metadata": {},
   "outputs": [],
   "source": [
    "extra_marks=10\n",
    "def total_score_glob():\n",
    "    print('printng inside the function and total is ',35+extra_marks)\n",
    "    "
   ]
  },
  {
   "cell_type": "code",
   "execution_count": 27,
   "id": "4f52e6f7",
   "metadata": {},
   "outputs": [
    {
     "name": "stdout",
     "output_type": "stream",
     "text": [
      "printng inside the function and total is  45\n"
     ]
    }
   ],
   "source": [
    "total_score_glob()"
   ]
  },
  {
   "cell_type": "code",
   "execution_count": 31,
   "id": "cf106c26",
   "metadata": {},
   "outputs": [
    {
     "name": "stdout",
     "output_type": "stream",
     "text": [
      "printing outside the function and the total is 45\n"
     ]
    }
   ],
   "source": [
    "print('printing outside the function and the total is',35+extra_marks)"
   ]
  },
  {
   "cell_type": "code",
   "execution_count": 32,
   "id": "7e1e5761",
   "metadata": {},
   "outputs": [],
   "source": [
    "#local variable- variable defined inside the function .this variable can be used only inside the function.\n"
   ]
  },
  {
   "cell_type": "code",
   "execution_count": 34,
   "id": "64784fda",
   "metadata": {},
   "outputs": [],
   "source": [
    "def total_score_loc():\n",
    "    some_marks=50\n",
    "    print('printing inside the function and the total is ',50+some_marks)"
   ]
  },
  {
   "cell_type": "code",
   "execution_count": 35,
   "id": "7d6d7799",
   "metadata": {},
   "outputs": [
    {
     "name": "stdout",
     "output_type": "stream",
     "text": [
      "printing inside the function and the total is  100\n"
     ]
    }
   ],
   "source": [
    "total_score_loc()"
   ]
  },
  {
   "cell_type": "code",
   "execution_count": 2,
   "id": "31ace279",
   "metadata": {},
   "outputs": [
    {
     "ename": "NameError",
     "evalue": "name 'some_marks' is not defined",
     "output_type": "error",
     "traceback": [
      "\u001b[1;31m---------------------------------------------------------------------------\u001b[0m",
      "\u001b[1;31mNameError\u001b[0m                                 Traceback (most recent call last)",
      "\u001b[1;32m~\\AppData\\Local\\Temp/ipykernel_7068/2120417808.py\u001b[0m in \u001b[0;36m<module>\u001b[1;34m\u001b[0m\n\u001b[1;32m----> 1\u001b[1;33m \u001b[0mprint\u001b[0m\u001b[1;33m(\u001b[0m\u001b[1;34m'printing outside the function and the total is '\u001b[0m\u001b[1;33m,\u001b[0m\u001b[1;36m50\u001b[0m\u001b[1;33m+\u001b[0m\u001b[0msome_marks\u001b[0m\u001b[1;33m)\u001b[0m\u001b[1;33m\u001b[0m\u001b[1;33m\u001b[0m\u001b[0m\n\u001b[0m",
      "\u001b[1;31mNameError\u001b[0m: name 'some_marks' is not defined"
     ]
    }
   ],
   "source": [
    "print('printing outside the function and the total is ',50+some_marks)"
   ]
  },
  {
   "cell_type": "code",
   "execution_count": 37,
   "id": "4621b92e",
   "metadata": {},
   "outputs": [],
   "source": [
    "#then how to use local variable outside the function?\n",
    "\n",
    "def local_global():\n",
    "    global var20\n",
    "    var1='this is fantastic'\n",
    "    print(var1)"
   ]
  },
  {
   "cell_type": "code",
   "execution_count": 39,
   "id": "ac01bc33",
   "metadata": {},
   "outputs": [
    {
     "name": "stdout",
     "output_type": "stream",
     "text": [
      "this is fantastic\n"
     ]
    }
   ],
   "source": [
    "local_global()"
   ]
  },
  {
   "cell_type": "code",
   "execution_count": 4,
   "id": "b056cf07",
   "metadata": {},
   "outputs": [
    {
     "ename": "NameError",
     "evalue": "name 'var20' is not defined",
     "output_type": "error",
     "traceback": [
      "\u001b[1;31m---------------------------------------------------------------------------\u001b[0m",
      "\u001b[1;31mNameError\u001b[0m                                 Traceback (most recent call last)",
      "\u001b[1;32m~\\AppData\\Local\\Temp/ipykernel_7068/61939143.py\u001b[0m in \u001b[0;36m<module>\u001b[1;34m\u001b[0m\n\u001b[1;32m----> 1\u001b[1;33m \u001b[0mprint\u001b[0m\u001b[1;33m(\u001b[0m\u001b[0mvar20\u001b[0m\u001b[1;33m)\u001b[0m\u001b[1;33m\u001b[0m\u001b[1;33m\u001b[0m\u001b[0m\n\u001b[0m",
      "\u001b[1;31mNameError\u001b[0m: name 'var20' is not defined"
     ]
    }
   ],
   "source": [
    "print(var20)"
   ]
  },
  {
   "cell_type": "code",
   "execution_count": null,
   "id": "a3f5fd0f",
   "metadata": {},
   "outputs": [],
   "source": []
  }
 ],
 "metadata": {
  "kernelspec": {
   "display_name": "Python 3 (ipykernel)",
   "language": "python",
   "name": "python3"
  },
  "language_info": {
   "codemirror_mode": {
    "name": "ipython",
    "version": 3
   },
   "file_extension": ".py",
   "mimetype": "text/x-python",
   "name": "python",
   "nbconvert_exporter": "python",
   "pygments_lexer": "ipython3",
   "version": "3.9.7"
  }
 },
 "nbformat": 4,
 "nbformat_minor": 5
}
