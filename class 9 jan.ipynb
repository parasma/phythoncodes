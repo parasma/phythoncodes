{
 "cells": [
  {
   "cell_type": "code",
   "execution_count": 7,
   "id": "0b9fb7c0",
   "metadata": {},
   "outputs": [
    {
     "data": {
      "text/plain": [
       "{'key1', 'key2', 'value1', 'value2'}"
      ]
     },
     "execution_count": 7,
     "metadata": {},
     "output_type": "execute_result"
    }
   ],
   "source": [
    "#dictionary\n",
    "#always in curly bracket{]\n",
    "my_dict={'key1','value1','key2','value2'}\n",
    "my_dict"
   ]
  },
  {
   "cell_type": "markdown",
   "id": "4ee815a3",
   "metadata": {},
   "source": []
  },
  {
   "cell_type": "code",
   "execution_count": 16,
   "id": "1a669d00",
   "metadata": {},
   "outputs": [],
   "source": [
    "my_dict={'roll number':123,'marks':[12,23,33],'subject':['computer','science','maths']}"
   ]
  },
  {
   "cell_type": "code",
   "execution_count": 18,
   "id": "2ab60a98",
   "metadata": {},
   "outputs": [
    {
     "data": {
      "text/plain": [
       "['computer', 'science', 'maths']"
      ]
     },
     "execution_count": 18,
     "metadata": {},
     "output_type": "execute_result"
    }
   ],
   "source": [
    "my_dict['subject']"
   ]
  },
  {
   "cell_type": "code",
   "execution_count": 19,
   "id": "8949a775",
   "metadata": {},
   "outputs": [
    {
     "data": {
      "text/plain": [
       "123"
      ]
     },
     "execution_count": 19,
     "metadata": {},
     "output_type": "execute_result"
    }
   ],
   "source": [
    "my_dict['roll number']"
   ]
  },
  {
   "cell_type": "code",
   "execution_count": 20,
   "id": "e4a9c6d5",
   "metadata": {},
   "outputs": [
    {
     "data": {
      "text/plain": [
       "[12, 23, 33]"
      ]
     },
     "execution_count": 20,
     "metadata": {},
     "output_type": "execute_result"
    }
   ],
   "source": [
    "my_dict['marks']"
   ]
  },
  {
   "cell_type": "code",
   "execution_count": 21,
   "id": "8f997d87",
   "metadata": {},
   "outputs": [
    {
     "data": {
      "text/plain": [
       "'maths'"
      ]
     },
     "execution_count": 21,
     "metadata": {},
     "output_type": "execute_result"
    }
   ],
   "source": [
    "#can call an index on that value\n",
    "my_dict['subject'][2]"
   ]
  },
  {
   "cell_type": "code",
   "execution_count": 23,
   "id": "411abd15",
   "metadata": {},
   "outputs": [
    {
     "data": {
      "text/plain": [
       "'COMPUTER'"
      ]
     },
     "execution_count": 23,
     "metadata": {},
     "output_type": "execute_result"
    }
   ],
   "source": [
    "#can then even all methods on that value\n",
    "#it changes the latter on capital letters\n",
    "my_dict['subject'][0].upper()"
   ]
  },
  {
   "cell_type": "code",
   "execution_count": 24,
   "id": "05b02821",
   "metadata": {},
   "outputs": [
    {
     "data": {
      "text/plain": [
       "'science'"
      ]
     },
     "execution_count": 24,
     "metadata": {},
     "output_type": "execute_result"
    }
   ],
   "source": [
    "#it also changes the letter into the lower case\n",
    "my_dict['subject'][1].lower()"
   ]
  },
  {
   "cell_type": "code",
   "execution_count": 27,
   "id": "6c375caa",
   "metadata": {},
   "outputs": [],
   "source": [
    "#add marks to the first element\n",
    "my_dict['marks'][0]+=30"
   ]
  },
  {
   "cell_type": "code",
   "execution_count": 28,
   "id": "372fba5d",
   "metadata": {},
   "outputs": [
    {
     "data": {
      "text/plain": [
       "[60, 23, 33]"
      ]
     },
     "execution_count": 28,
     "metadata": {},
     "output_type": "execute_result"
    }
   ],
   "source": [
    "my_dict['marks']"
   ]
  },
  {
   "cell_type": "code",
   "execution_count": 29,
   "id": "7fbfdbf2",
   "metadata": {},
   "outputs": [],
   "source": [
    "my_dict['marks'][1]=my_dict['marks'][1]+30"
   ]
  },
  {
   "cell_type": "code",
   "execution_count": 30,
   "id": "c431093d",
   "metadata": {},
   "outputs": [
    {
     "data": {
      "text/plain": [
       "[60, 53, 33]"
      ]
     },
     "execution_count": 30,
     "metadata": {},
     "output_type": "execute_result"
    }
   ],
   "source": [
    "my_dict['marks']"
   ]
  },
  {
   "cell_type": "code",
   "execution_count": 31,
   "id": "5d37058d",
   "metadata": {},
   "outputs": [],
   "source": [
    "##phython has a built in method of doing a self subtracting or adding or multiplication or division also.\n",
    "##we could also use +=or-=for the above statement.for example\n",
    "#another way of adding\n",
    "my_dict['marks'][2]+=20\n"
   ]
  },
  {
   "cell_type": "code",
   "execution_count": 32,
   "id": "597fb660",
   "metadata": {},
   "outputs": [
    {
     "data": {
      "text/plain": [
       "[60, 53, 53]"
      ]
     },
     "execution_count": 32,
     "metadata": {},
     "output_type": "execute_result"
    }
   ],
   "source": [
    "my_dict['marks']"
   ]
  },
  {
   "cell_type": "code",
   "execution_count": 34,
   "id": "c933b008",
   "metadata": {},
   "outputs": [],
   "source": [
    "#add new key to the expertise dictonary\n",
    "my_dict['year']='3rd'"
   ]
  },
  {
   "cell_type": "code",
   "execution_count": 35,
   "id": "7a2d850b",
   "metadata": {},
   "outputs": [
    {
     "data": {
      "text/plain": [
       "{'roll number': 123,\n",
       " 'marks': [60, 53, 53],\n",
       " 'subject': ['computer', 'science', 'maths'],\n",
       " 'year': '3rd'}"
      ]
     },
     "execution_count": 35,
     "metadata": {},
     "output_type": "execute_result"
    }
   ],
   "source": [
    "my_dict"
   ]
  },
  {
   "cell_type": "code",
   "execution_count": 37,
   "id": "92f368f2",
   "metadata": {},
   "outputs": [],
   "source": [
    "##update values\n",
    "my_dict.update({'roll number':100})"
   ]
  },
  {
   "cell_type": "code",
   "execution_count": 38,
   "id": "dfe5fd4a",
   "metadata": {},
   "outputs": [
    {
     "data": {
      "text/plain": [
       "{'roll number': 100,\n",
       " 'marks': [60, 53, 53],\n",
       " 'subject': ['computer', 'science', 'maths'],\n",
       " 'year': '3rd'}"
      ]
     },
     "execution_count": 38,
     "metadata": {},
     "output_type": "execute_result"
    }
   ],
   "source": [
    "my_dict"
   ]
  },
  {
   "cell_type": "code",
   "execution_count": 42,
   "id": "16c967ca",
   "metadata": {},
   "outputs": [],
   "source": [
    "my_dict.update({'subject':['hindi','english']})"
   ]
  },
  {
   "cell_type": "code",
   "execution_count": 43,
   "id": "d155fca9",
   "metadata": {},
   "outputs": [
    {
     "data": {
      "text/plain": [
       "{'roll number': 100,\n",
       " 'marks': [60, 53, 53],\n",
       " 'subject': ['hindi', 'english'],\n",
       " 'year': '3rd'}"
      ]
     },
     "execution_count": 43,
     "metadata": {},
     "output_type": "execute_result"
    }
   ],
   "source": [
    "my_dict"
   ]
  },
  {
   "cell_type": "code",
   "execution_count": 54,
   "id": "997e2c8c",
   "metadata": {},
   "outputs": [
    {
     "name": "stdout",
     "output_type": "stream",
     "text": [
      "it is something else\n"
     ]
    }
   ],
   "source": [
    "## BRANCHING(IF/ELIF/ELSE)\n",
    "#phython provides the if to allow branching based on conditions .\n",
    "#mutiple elif checks can also be performed followed by an option elseclause.\n",
    "#the if statement can be used with any evaluation of truthiness.\n",
    "i=13\n",
    "\n",
    "if i<13:\n",
    "    print('less than 13')\n",
    "    \n",
    "elif i>15:\n",
    "        print('more than 15')\n",
    "        \n",
    "else:\n",
    "            print('it is something else')"
   ]
  },
  {
   "cell_type": "code",
   "execution_count": 56,
   "id": "7e6aad9a",
   "metadata": {},
   "outputs": [
    {
     "name": "stdout",
     "output_type": "stream",
     "text": [
      "less than 13\n"
     ]
    }
   ],
   "source": [
    "i=11\n",
    "\n",
    "if i<13:\n",
    "    print('less than 13')\n",
    "    \n",
    "elif i>15:\n",
    "        print('more than 15')\n",
    "        \n",
    "else:\n",
    "            print('it is something else')"
   ]
  },
  {
   "cell_type": "code",
   "execution_count": 59,
   "id": "953e4c73",
   "metadata": {},
   "outputs": [
    {
     "name": "stdout",
     "output_type": "stream",
     "text": [
      "it is not greater\n"
     ]
    }
   ],
   "source": [
    "i=91\n",
    "j=23\n",
    "if j>i:\n",
    "    print('it is working')\n",
    "else:\n",
    "    print('it is not greater')"
   ]
  },
  {
   "cell_type": "code",
   "execution_count": 63,
   "id": "e01266fb",
   "metadata": {},
   "outputs": [
    {
     "name": "stdout",
     "output_type": "stream",
     "text": [
      "it is equal\n"
     ]
    }
   ],
   "source": [
    "a=530\n",
    "b=530\n",
    "print('a')if a>b else print('it is equal'if a==b else print('b'))"
   ]
  },
  {
   "cell_type": "code",
   "execution_count": 68,
   "id": "d51a3ff4",
   "metadata": {},
   "outputs": [
    {
     "name": "stdout",
     "output_type": "stream",
     "text": [
      "both conditions are not true\n"
     ]
    }
   ],
   "source": [
    "a=200\n",
    "b=33\n",
    "c=500\n",
    "if a>b and c<a:\n",
    "    print('both conditions are true')\n",
    "else:\n",
    "    print('both conditions are not true')"
   ]
  },
  {
   "cell_type": "code",
   "execution_count": 69,
   "id": "cbd3a2d7",
   "metadata": {},
   "outputs": [
    {
     "name": "stdout",
     "output_type": "stream",
     "text": [
      "both conditions are true\n"
     ]
    }
   ],
   "source": [
    "a=200\n",
    "b=33\n",
    "c=500\n",
    "if a>b or c<a:\n",
    "    print('both conditions are true')\n",
    "else:\n",
    "    print('both conditions are not true')"
   ]
  },
  {
   "cell_type": "code",
   "execution_count": 80,
   "id": "0318d049",
   "metadata": {},
   "outputs": [
    {
     "name": "stdout",
     "output_type": "stream",
     "text": [
      "pass\n"
     ]
    }
   ],
   "source": [
    "#find student level\n",
    "marks=48\n",
    "if marks>60:\n",
    "    if marks<70:\n",
    "        print('distinction')\n",
    "    else:\n",
    "        print('first class')\n",
    "elif marks>50 and marks<=60:\n",
    "    print('second class')\n",
    "elif marks>=35:\n",
    "    print('pass')\n",
    "else:\n",
    "    print('fail-better luck next time')"
   ]
  },
  {
   "cell_type": "code",
   "execution_count": 85,
   "id": "8bd2f537",
   "metadata": {},
   "outputs": [
    {
     "name": "stdout",
     "output_type": "stream",
     "text": [
      "i am wrong\n"
     ]
    }
   ],
   "source": [
    "num1=20\n",
    "num2=30\n",
    "\n",
    "if num1==\"20\":\n",
    "    print('shankar is wrong')\n",
    "elif num2>25:\n",
    "    print('i am wrong')"
   ]
  },
  {
   "cell_type": "code",
   "execution_count": 87,
   "id": "96f378bb",
   "metadata": {},
   "outputs": [
    {
     "name": "stdout",
     "output_type": "stream",
     "text": [
      "shankar is wrong\n"
     ]
    }
   ],
   "source": [
    "num1=20\n",
    "num2=30\n",
    "\n",
    "if num1==20:\n",
    "    print('shankar is wrong')\n",
    "elif num2>25:\n",
    "    print('i am wrong')"
   ]
  },
  {
   "cell_type": "code",
   "execution_count": 88,
   "id": "a5f0f85c",
   "metadata": {},
   "outputs": [],
   "source": [
    "##in general statement are  executed sequentially.thefirst statement in a function is executed first,followed by the second, and so on.there may be a situation when you need to execute a block of code several number of times.\n",
    "#programming language provides various control structures that allow for more cmplicated execution paths.\n",
    "##for loop\n",
    "#the for loop in phython is used to iterate over a sequence list,tuple,string or other iterable objects.iterating over asequence is called tranversal.\n",
    "#loop continues until we reace the last item in the sequencee. the body of for loop is seperated from the rest of the code using identation.\n"
   ]
  },
  {
   "cell_type": "code",
   "execution_count": 91,
   "id": "11a175e8",
   "metadata": {},
   "outputs": [
    {
     "name": "stdout",
     "output_type": "stream",
     "text": [
      "['bangaluru', 'noida', 'chennai', 'hyderabad', 'delhi']\n"
     ]
    }
   ],
   "source": [
    "location=['bangaluru','noida','chennai','hyderabad','delhi']\n",
    "print(location)"
   ]
  },
  {
   "cell_type": "code",
   "execution_count": 94,
   "id": "607a7358",
   "metadata": {},
   "outputs": [
    {
     "name": "stdout",
     "output_type": "stream",
     "text": [
      "bangaluru\n",
      "noida\n",
      "chennai\n",
      "hyderabad\n",
      "delhi\n"
     ]
    }
   ],
   "source": [
    "#list of string\n",
    "location=['bangaluru','noida','chennai','hyderabad','delhi']\n",
    "for i in location:\n",
    "    print(i)"
   ]
  },
  {
   "cell_type": "code",
   "execution_count": 95,
   "id": "d4497dd1",
   "metadata": {},
   "outputs": [
    {
     "name": "stdout",
     "output_type": "stream",
     "text": [
      "7000\n",
      "8000\n",
      "11500\n"
     ]
    }
   ],
   "source": [
    "salary=[2000,4000,5000,7000,8000,11500,380]\n",
    "for val in salary:\n",
    "    if val>5500:\n",
    "        print(val)"
   ]
  },
  {
   "cell_type": "code",
   "execution_count": 1,
   "id": "801f0afd",
   "metadata": {},
   "outputs": [
    {
     "ename": "SyntaxError",
     "evalue": "invalid syntax (Temp/ipykernel_8660/2078041213.py, line 7)",
     "output_type": "error",
     "traceback": [
      "\u001b[1;36m  File \u001b[1;32m\"C:\\Users\\DELL\\AppData\\Local\\Temp/ipykernel_8660/2078041213.py\"\u001b[1;36m, line \u001b[1;32m7\u001b[0m\n\u001b[1;33m    else:\u001b[0m\n\u001b[1;37m    ^\u001b[0m\n\u001b[1;31mSyntaxError\u001b[0m\u001b[1;31m:\u001b[0m invalid syntax\n"
     ]
    }
   ],
   "source": [
    "students_score=[35,67,78,79,12,34,67,54,89]\n",
    "\n",
    "for marks in students_scores:\n",
    "    if marks>60:\n",
    "        if marks>70:\n",
    "            print('distinction')\n",
    "            else:\n",
    "                print('first class')\n",
    "                \n",
    "    elif marks>50 and marks<=60:\n",
    "        print('second class')\n",
    "    elif marks>=35:\n",
    "        print('pass')\n",
    "        \n",
    "    else:\n",
    "        print('fail')"
   ]
  },
  {
   "cell_type": "code",
   "execution_count": null,
   "id": "b81aab5e",
   "metadata": {},
   "outputs": [],
   "source": []
  },
  {
   "cell_type": "code",
   "execution_count": null,
   "id": "5e52ecbe",
   "metadata": {},
   "outputs": [],
   "source": []
  }
 ],
 "metadata": {
  "kernelspec": {
   "display_name": "Python 3 (ipykernel)",
   "language": "python",
   "name": "python3"
  },
  "language_info": {
   "codemirror_mode": {
    "name": "ipython",
    "version": 3
   },
   "file_extension": ".py",
   "mimetype": "text/x-python",
   "name": "python",
   "nbconvert_exporter": "python",
   "pygments_lexer": "ipython3",
   "version": "3.9.7"
  }
 },
 "nbformat": 4,
 "nbformat_minor": 5
}
