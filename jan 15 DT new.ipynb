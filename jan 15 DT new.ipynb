{
 "cells": [
  {
   "cell_type": "code",
   "execution_count": 36,
   "id": "f4e59849",
   "metadata": {},
   "outputs": [
    {
     "name": "stdout",
     "output_type": "stream",
     "text": [
      "income_till_date=> 100\n",
      "income_till_date=> 250\n",
      "income_till_date=> 350\n",
      "income_till_date=> 550\n",
      "income_till_date=> 700\n",
      "income_till_date=> 900\n",
      "income_till_date=> 1200\n",
      "the total weekly income is ===>> 1200\n"
     ]
    }
   ],
   "source": [
    "#list of numbers\n",
    "daily_sales=[100,150,100,200,150,200,300]\n",
    "\n",
    "#variable to store the sum\n",
    "income_till_date=0\n",
    "\n",
    "#iterate over the list\n",
    "for val in daily_sales:\n",
    "    income_till_date=income_till_date+val\n",
    "    print('income_till_date=>',income_till_date)\n",
    "    \n",
    "#Toral income\n",
    "print('the total weekly income is ===>>',income_till_date)\n"
   ]
  },
  {
   "cell_type": "code",
   "execution_count": 37,
   "id": "558daf29",
   "metadata": {},
   "outputs": [
    {
     "name": "stdout",
     "output_type": "stream",
     "text": [
      "10\n",
      "20\n",
      "30\n",
      "no items left\n"
     ]
    }
   ],
   "source": [
    "#FOR LOOP WITH ELSE\n",
    "#A for loop can have an optional else block as well.\n",
    "#the else part is executed if the items inthe sequence used in for loop exhausts.\n",
    "#break statements can be used to stop a for loop.in such case ,the else part is ignored.\n",
    "#hence,a for loop's else part runs if no break occurs,here is an example to illustrate this.\n",
    "\n",
    "\n",
    "\n",
    "digits=[10,20,30]\n",
    "for val in digits:\n",
    "    print(val)\n",
    "else:\n",
    "    print('no items left')"
   ]
  },
  {
   "cell_type": "code",
   "execution_count": 38,
   "id": "d55a690a",
   "metadata": {},
   "outputs": [
    {
     "name": "stdout",
     "output_type": "stream",
     "text": [
      "1\n",
      "2\n",
      "3\n",
      "4\n",
      "5\n",
      "the sum is 5\n"
     ]
    }
   ],
   "source": [
    "#WHILE LOOP\n",
    "#the while loop in phython is used to iterate over a block of code as long as the test expressions (conditions)is true.\n",
    "#we generally use this loop when we dont know beforehand, the number of time to iterate.\n",
    "#in while loop test expressions is checked first.the body og the loop is entered inl if test expressions evaluate to true.\n",
    "#after one iteration the test expressions is checked again.this process continues until the test expressions evaluate to false.\n",
    "\n",
    "#in phython the body of the while loop is determined through indentation.\n",
    "#body starts with indentation and the first unindentated line marks the end .\n",
    "#phython interprets any non-zero values as true.none and  ae interpreted as false.\n",
    "\n",
    "n=5\n",
    "#initialize sum and  counter\n",
    "sum=0\n",
    "\n",
    "i=1\n",
    "while i<=n:\n",
    "    sum=sum+1\n",
    "    i=i+1\n",
    "    print(sum)\n",
    "    \n",
    "#print the sum\n",
    "print('the sum is',sum)"
   ]
  },
  {
   "cell_type": "code",
   "execution_count": 39,
   "id": "eb3a1d97",
   "metadata": {},
   "outputs": [],
   "source": [
    "#diff b/w for and while loop\n",
    "#for loop=if you know how many times you want to execute the code, use for loop.\n",
    "#while loop=if you dont know how many times you want to execute then use the while loop with condition.it mean you will execute the code if the condition is true only\n",
    "\n",
    "#ENUMERATE\n",
    "#enumerate () allows us to iterate through a sequence but it keeps track of both the index and the element.\n",
    "\n",
    "students=['naveen','rathna','vivaan','shridhar','chinntu','chinnnu']\n"
   ]
  },
  {
   "cell_type": "code",
   "execution_count": 40,
   "id": "7e6b81c0",
   "metadata": {},
   "outputs": [
    {
     "name": "stdout",
     "output_type": "stream",
     "text": [
      "(0, 'naveen')\n",
      "(1, 'rathna')\n",
      "(2, 'vivaan')\n",
      "(3, 'shridhar')\n",
      "(4, 'chinntu')\n",
      "(5, 'chinnnu')\n"
     ]
    }
   ],
   "source": [
    "for name in enumerate(students):\n",
    "    print(name)"
   ]
  },
  {
   "cell_type": "code",
   "execution_count": 41,
   "id": "861e1c97",
   "metadata": {},
   "outputs": [
    {
     "name": "stdout",
     "output_type": "stream",
     "text": [
      "1 naveen\n",
      "2 rathna\n",
      "3 vivaan\n",
      "4 shridhar\n",
      "5 chinntu\n",
      "6 chinnnu\n"
     ]
    }
   ],
   "source": [
    "#you can start index from any number\n",
    "for i,  name in enumerate(students,1):\n",
    "    print(i,name)"
   ]
  },
  {
   "cell_type": "code",
   "execution_count": 42,
   "id": "4b29eeb2",
   "metadata": {},
   "outputs": [],
   "source": [
    "#ZIP\n",
    "students=['naveen','rathna','vivaan','shridhar','chinntu','chinnnu']\n",
    "student_marks=[53,74,62,81,55,86]"
   ]
  },
  {
   "cell_type": "code",
   "execution_count": 43,
   "id": "39b48131",
   "metadata": {},
   "outputs": [
    {
     "data": {
      "text/plain": [
       "[('naveen', 53),\n",
       " ('rathna', 74),\n",
       " ('vivaan', 62),\n",
       " ('shridhar', 81),\n",
       " ('chinntu', 55),\n",
       " ('chinnnu', 86)]"
      ]
     },
     "execution_count": 43,
     "metadata": {},
     "output_type": "execute_result"
    }
   ],
   "source": [
    "student_details=list(zip(students,student_marks))\n",
    "student_details"
   ]
  },
  {
   "cell_type": "code",
   "execution_count": 49,
   "id": "a1a74902",
   "metadata": {},
   "outputs": [],
   "source": [
    "#UNZIP\n",
    "name,marks=zip(*student_details)\n"
   ]
  },
  {
   "cell_type": "code",
   "execution_count": 50,
   "id": "acb18da5",
   "metadata": {},
   "outputs": [
    {
     "data": {
      "text/plain": [
       "('naveen', 'rathna', 'vivaan', 'shridhar', 'chinntu', 'chinnnu')"
      ]
     },
     "execution_count": 50,
     "metadata": {},
     "output_type": "execute_result"
    }
   ],
   "source": [
    "name"
   ]
  },
  {
   "cell_type": "code",
   "execution_count": 51,
   "id": "74e5b9ac",
   "metadata": {},
   "outputs": [
    {
     "data": {
      "text/plain": [
       "(53, 74, 62, 81, 55, 86)"
      ]
     },
     "execution_count": 51,
     "metadata": {},
     "output_type": "execute_result"
    }
   ],
   "source": [
    "roll_number"
   ]
  },
  {
   "cell_type": "code",
   "execution_count": 52,
   "id": "988ab553",
   "metadata": {},
   "outputs": [
    {
     "data": {
      "text/plain": [
       "(53, 74, 62, 81, 55, 86)"
      ]
     },
     "execution_count": 52,
     "metadata": {},
     "output_type": "execute_result"
    }
   ],
   "source": [
    "marks"
   ]
  },
  {
   "cell_type": "raw",
   "id": "12c283bb",
   "metadata": {},
   "source": []
  },
  {
   "cell_type": "code",
   "execution_count": 53,
   "id": "6817b8c6",
   "metadata": {},
   "outputs": [
    {
     "data": {
      "text/plain": [
       "(53, 74, 62, 81, 55, 86)"
      ]
     },
     "execution_count": 53,
     "metadata": {},
     "output_type": "execute_result"
    }
   ],
   "source": [
    "roll_number"
   ]
  },
  {
   "cell_type": "code",
   "execution_count": 54,
   "id": "e1eed7bd",
   "metadata": {},
   "outputs": [
    {
     "data": {
      "text/plain": [
       "(53, 74, 62, 81, 55, 86)"
      ]
     },
     "execution_count": 54,
     "metadata": {},
     "output_type": "execute_result"
    }
   ],
   "source": [
    "marks"
   ]
  },
  {
   "cell_type": "code",
   "execution_count": 59,
   "id": "ef5b7e7b",
   "metadata": {},
   "outputs": [],
   "source": [
    "#ENUMERATE ANND ZIP\n",
    "students_name=['naveen','rathna','vivaan','shridhar','chinntu','chinnnu']\n",
    "student_marks=[53,74,62,81,55,86]\n",
    "\n",
    "\n",
    "\n"
   ]
  },
  {
   "cell_type": "code",
   "execution_count": 62,
   "id": "fea8346c",
   "metadata": {},
   "outputs": [
    {
     "name": "stdout",
     "output_type": "stream",
     "text": [
      "1 naveen 53\n",
      "2 rathna 74\n",
      "3 vivaan 62\n",
      "4 shridhar 81\n",
      "5 chinntu 55\n",
      "6 chinnnu 86\n"
     ]
    }
   ],
   "source": [
    "for i,(name,marks)in enumerate (zip(students_name,student_marks),1):\n",
    "    print(i,name,marks)"
   ]
  },
  {
   "cell_type": "code",
   "execution_count": 1,
   "id": "70e781b2",
   "metadata": {},
   "outputs": [],
   "source": [
    "#BREAK AND CONTINUE STATEMENT\n",
    "#in phython ,break and continue statement can alter the flow of a normal loop.\n",
    "#loops iterate over a block of code until test expressions is false,but sometimes we wwish to terminate the current iteration or even the whole loop without checking test expressions.\n",
    "#the break and coontinue statements are used in these cases.\n",
    "\n",
    "#BREAK\n",
    "#the break statement terminates the loop containing it. control of the program flows to the statement immediately after the body of the loop.\n",
    "#if break statement is inside a nested loop(loop inside another loop),break will terminate the innermost loop.\n",
    "#use of break statement inside loop.\n"
   ]
  },
  {
   "cell_type": "code",
   "execution_count": 7,
   "id": "b2fedf96",
   "metadata": {},
   "outputs": [
    {
     "name": "stdout",
     "output_type": "stream",
     "text": [
      "bengaluru\n",
      "delhi\n",
      "noida\n"
     ]
    }
   ],
   "source": [
    "city=['bengaluru','delhi','noida','hyderabad','mumbai']\n",
    "for val in city:\n",
    "    if val =='hyderabad':\n",
    "        break\n",
    "    print (val)    "
   ]
  },
  {
   "cell_type": "code",
   "execution_count": 11,
   "id": "3568971d",
   "metadata": {},
   "outputs": [
    {
     "name": "stdout",
     "output_type": "stream",
     "text": [
      "2000\n",
      "3800\n",
      "4000\n",
      "4500\n"
     ]
    }
   ],
   "source": [
    "#as soon as condition satisfy loop will break and it will not check next element.\n",
    "salary=[2000,3800,4000,4500,5000,7000,8000]\n",
    "\n",
    "for val in salary:\n",
    "    if val>4600:\n",
    "        break\n",
    "    print(val)"
   ]
  },
  {
   "cell_type": "code",
   "execution_count": 12,
   "id": "b675db57",
   "metadata": {},
   "outputs": [],
   "source": [
    "#CONTINUE\n",
    "#the continue statement is used to skip the rest of the codes inside a loop for the current iteration only.\n",
    "#loop does not terminate but continue on with the next iteration.\n"
   ]
  },
  {
   "cell_type": "code",
   "execution_count": 13,
   "id": "0a466e13",
   "metadata": {},
   "outputs": [
    {
     "name": "stdout",
     "output_type": "stream",
     "text": [
      "bengaluru\n",
      "delhi\n",
      "noida\n",
      "mumbai\n"
     ]
    }
   ],
   "source": [
    "#program to show the use of continue statement inside loops\n",
    "city=['bengaluru','delhi','noida','hyderabad','mumbai']\n",
    "\n",
    "\n",
    "for val in city:\n",
    "    if val =='hyderabad':\n",
    "        continue\n",
    "    print(val)"
   ]
  },
  {
   "cell_type": "code",
   "execution_count": 15,
   "id": "2646d23b",
   "metadata": {},
   "outputs": [
    {
     "name": "stdout",
     "output_type": "stream",
     "text": [
      "2000\n",
      "3800\n",
      "4000\n",
      "4500\n",
      "5000\n",
      "the end\n"
     ]
    }
   ],
   "source": [
    "salary=[2000,3800,4000,4500,5000,7000,8000]\n",
    "\n",
    "for val in salary:\n",
    "    if val>5500:\n",
    "        continue\n",
    "    print(val)\n",
    "print('the end')    "
   ]
  },
  {
   "cell_type": "code",
   "execution_count": 16,
   "id": "c7d36c43",
   "metadata": {},
   "outputs": [],
   "source": [
    "#the range ()function\n",
    "#we can generate a sequence of numbers using range ()function.rnge (10)will generate numbers from 0 to 9 (10 numbers).\n",
    "#we can also define the start, stop and step size as range(start,stop,step,size).step size defaults to 1 if not provided.\n",
    "#the function does not store all the values in memory,it would be innefficient.so it remembers the start,stop,step_size and generates the next number on the go.\n",
    "#to force this fumction to output all the item we can use the function list().\n",
    "#the following example will clarify this.\n",
    "#last number always excluded $ starting number is included.\n",
    "\n"
   ]
  },
  {
   "cell_type": "code",
   "execution_count": 17,
   "id": "b92df7c5",
   "metadata": {},
   "outputs": [
    {
     "name": "stdout",
     "output_type": "stream",
     "text": [
      "range(0, 10)\n"
     ]
    }
   ],
   "source": [
    "print(range(10))"
   ]
  },
  {
   "cell_type": "code",
   "execution_count": 18,
   "id": "a4fe4ff9",
   "metadata": {},
   "outputs": [
    {
     "name": "stdout",
     "output_type": "stream",
     "text": [
      "[0, 1, 2, 3, 4, 5, 6, 7, 8, 9]\n"
     ]
    }
   ],
   "source": [
    "print (list(range(10)))"
   ]
  },
  {
   "cell_type": "code",
   "execution_count": 19,
   "id": "4b22e96d",
   "metadata": {},
   "outputs": [],
   "source": [
    "roll_number=list(range(1,8))"
   ]
  },
  {
   "cell_type": "code",
   "execution_count": 20,
   "id": "9f09e9b5",
   "metadata": {},
   "outputs": [
    {
     "data": {
      "text/plain": [
       "[1, 2, 3, 4, 5, 6, 7]"
      ]
     },
     "execution_count": 20,
     "metadata": {},
     "output_type": "execute_result"
    }
   ],
   "source": [
    "roll_number"
   ]
  },
  {
   "cell_type": "code",
   "execution_count": 21,
   "id": "84bbd166",
   "metadata": {},
   "outputs": [],
   "source": [
    "step_size=list(range(0,31,5))"
   ]
  },
  {
   "cell_type": "code",
   "execution_count": 22,
   "id": "f49b2325",
   "metadata": {},
   "outputs": [
    {
     "data": {
      "text/plain": [
       "[0, 5, 10, 15, 20, 25, 30]"
      ]
     },
     "execution_count": 22,
     "metadata": {},
     "output_type": "execute_result"
    }
   ],
   "source": [
    "step_size"
   ]
  },
  {
   "cell_type": "code",
   "execution_count": 23,
   "id": "de0a6e4d",
   "metadata": {},
   "outputs": [],
   "source": [
    "step_size=list(range(0,31,3))"
   ]
  },
  {
   "cell_type": "code",
   "execution_count": 24,
   "id": "5134ba26",
   "metadata": {},
   "outputs": [
    {
     "data": {
      "text/plain": [
       "[0, 3, 6, 9, 12, 15, 18, 21, 24, 27, 30]"
      ]
     },
     "execution_count": 24,
     "metadata": {},
     "output_type": "execute_result"
    }
   ],
   "source": [
    "step_size"
   ]
  },
  {
   "cell_type": "code",
   "execution_count": 25,
   "id": "eece02d1",
   "metadata": {},
   "outputs": [],
   "source": [
    "incr_by_hund=list(range(100,1600,100))"
   ]
  },
  {
   "cell_type": "code",
   "execution_count": 26,
   "id": "696f2244",
   "metadata": {},
   "outputs": [
    {
     "data": {
      "text/plain": [
       "[100,\n",
       " 200,\n",
       " 300,\n",
       " 400,\n",
       " 500,\n",
       " 600,\n",
       " 700,\n",
       " 800,\n",
       " 900,\n",
       " 1000,\n",
       " 1100,\n",
       " 1200,\n",
       " 1300,\n",
       " 1400,\n",
       " 1500]"
      ]
     },
     "execution_count": 26,
     "metadata": {},
     "output_type": "execute_result"
    }
   ],
   "source": [
    "incr_by_hund"
   ]
  },
  {
   "cell_type": "code",
   "execution_count": 28,
   "id": "80b234e3",
   "metadata": {},
   "outputs": [],
   "source": [
    "reverse=list(range(1600,100,-100))"
   ]
  },
  {
   "cell_type": "code",
   "execution_count": 29,
   "id": "a2d2459b",
   "metadata": {},
   "outputs": [
    {
     "data": {
      "text/plain": [
       "[1600,\n",
       " 1500,\n",
       " 1400,\n",
       " 1300,\n",
       " 1200,\n",
       " 1100,\n",
       " 1000,\n",
       " 900,\n",
       " 800,\n",
       " 700,\n",
       " 600,\n",
       " 500,\n",
       " 400,\n",
       " 300,\n",
       " 200]"
      ]
     },
     "execution_count": 29,
     "metadata": {},
     "output_type": "execute_result"
    }
   ],
   "source": [
    "reverse"
   ]
  },
  {
   "cell_type": "code",
   "execution_count": 30,
   "id": "79da9b00",
   "metadata": {},
   "outputs": [],
   "source": [
    "reverse=list(range(1600,100,-100))"
   ]
  },
  {
   "cell_type": "code",
   "execution_count": 31,
   "id": "50074c0b",
   "metadata": {},
   "outputs": [
    {
     "data": {
      "text/plain": [
       "[1600,\n",
       " 1500,\n",
       " 1400,\n",
       " 1300,\n",
       " 1200,\n",
       " 1100,\n",
       " 1000,\n",
       " 900,\n",
       " 800,\n",
       " 700,\n",
       " 600,\n",
       " 500,\n",
       " 400,\n",
       " 300,\n",
       " 200]"
      ]
     },
     "execution_count": 31,
     "metadata": {},
     "output_type": "execute_result"
    }
   ],
   "source": [
    "reverse"
   ]
  },
  {
   "cell_type": "code",
   "execution_count": 32,
   "id": "513bdcfd",
   "metadata": {},
   "outputs": [],
   "source": [
    "#STRING INDEXING\n",
    "#we knoe=w strings are a sequence which means phython can use indexs to call all the sequences parts .lets learn how string indexing works.we use brackets []after an object to call its index.we should also note that indexing starts at 0 for phython.\n",
    "#now lets create a new pbject called s and the walk through a few examples of indexing.\n",
    "\n"
   ]
  },
  {
   "cell_type": "code",
   "execution_count": 35,
   "id": "0db7d339",
   "metadata": {},
   "outputs": [],
   "source": [
    "#assingn s as a string\n",
    "s='hello world'"
   ]
  },
  {
   "cell_type": "code",
   "execution_count": 36,
   "id": "9360af6b",
   "metadata": {},
   "outputs": [
    {
     "data": {
      "text/plain": [
       "'hello world'"
      ]
     },
     "execution_count": 36,
     "metadata": {},
     "output_type": "execute_result"
    }
   ],
   "source": [
    "s"
   ]
  },
  {
   "cell_type": "code",
   "execution_count": 39,
   "id": "100b6b6f",
   "metadata": {},
   "outputs": [
    {
     "name": "stdout",
     "output_type": "stream",
     "text": [
      "hello world\n"
     ]
    }
   ],
   "source": [
    "#print the object\n",
    "print(s)"
   ]
  },
  {
   "cell_type": "code",
   "execution_count": 40,
   "id": "3384d37c",
   "metadata": {},
   "outputs": [
    {
     "data": {
      "text/plain": [
       "'h'"
      ]
     },
     "execution_count": 40,
     "metadata": {},
     "output_type": "execute_result"
    }
   ],
   "source": [
    "#lets start indexing\n",
    "#show first element (in this case a letter)\n",
    "s[0]"
   ]
  },
  {
   "cell_type": "code",
   "execution_count": 41,
   "id": "8bd9faa3",
   "metadata": {},
   "outputs": [
    {
     "data": {
      "text/plain": [
       "'e'"
      ]
     },
     "execution_count": 41,
     "metadata": {},
     "output_type": "execute_result"
    }
   ],
   "source": [
    "s[1]"
   ]
  },
  {
   "cell_type": "code",
   "execution_count": 42,
   "id": "6e7a9778",
   "metadata": {},
   "outputs": [
    {
     "data": {
      "text/plain": [
       "' '"
      ]
     },
     "execution_count": 42,
     "metadata": {},
     "output_type": "execute_result"
    }
   ],
   "source": [
    "s[5]"
   ]
  },
  {
   "cell_type": "code",
   "execution_count": 44,
   "id": "3c397a13",
   "metadata": {},
   "outputs": [
    {
     "data": {
      "text/plain": [
       "'ello world'"
      ]
     },
     "execution_count": 44,
     "metadata": {},
     "output_type": "execute_result"
    }
   ],
   "source": [
    "#we can use a :to perform sliciing which grabs everything up to a designated point.for example\n",
    "s[1:]"
   ]
  },
  {
   "cell_type": "code",
   "execution_count": 46,
   "id": "831a4211",
   "metadata": {},
   "outputs": [
    {
     "data": {
      "text/plain": [
       "'hello world'"
      ]
     },
     "execution_count": 46,
     "metadata": {},
     "output_type": "execute_result"
    }
   ],
   "source": [
    "s[:]"
   ]
  },
  {
   "cell_type": "code",
   "execution_count": 48,
   "id": "b262c1fd",
   "metadata": {},
   "outputs": [
    {
     "data": {
      "text/plain": [
       "'hel'"
      ]
     },
     "execution_count": 48,
     "metadata": {},
     "output_type": "execute_result"
    }
   ],
   "source": [
    "s[:3]"
   ]
  },
  {
   "cell_type": "code",
   "execution_count": 49,
   "id": "374a523f",
   "metadata": {},
   "outputs": [
    {
     "data": {
      "text/plain": [
       "'lo wo'"
      ]
     },
     "execution_count": 49,
     "metadata": {},
     "output_type": "execute_result"
    }
   ],
   "source": [
    "s[3:8]"
   ]
  },
  {
   "cell_type": "code",
   "execution_count": 50,
   "id": "40f27013",
   "metadata": {},
   "outputs": [
    {
     "data": {
      "text/plain": [
       "'hello worl'"
      ]
     },
     "execution_count": 50,
     "metadata": {},
     "output_type": "execute_result"
    }
   ],
   "source": [
    "s[:-1]"
   ]
  },
  {
   "cell_type": "code",
   "execution_count": 51,
   "id": "21176e22",
   "metadata": {},
   "outputs": [
    {
     "data": {
      "text/plain": [
       "'d'"
      ]
     },
     "execution_count": 51,
     "metadata": {},
     "output_type": "execute_result"
    }
   ],
   "source": [
    "s[-1]"
   ]
  },
  {
   "cell_type": "code",
   "execution_count": 52,
   "id": "58e287c2",
   "metadata": {},
   "outputs": [
    {
     "data": {
      "text/plain": [
       "'hello world'"
      ]
     },
     "execution_count": 52,
     "metadata": {},
     "output_type": "execute_result"
    }
   ],
   "source": [
    "#index and slice notation is used to grab elements of a sequence by a specified step size (where in 1 is the defaukt size)for instance we can use two colons in a row and then a number specifying the frequencey to grab elememnts .for example\n",
    "#grab everything,but go in step size of 1\n",
    "s[::1]"
   ]
  },
  {
   "cell_type": "code",
   "execution_count": 54,
   "id": "b1ae0c11",
   "metadata": {},
   "outputs": [
    {
     "data": {
      "text/plain": [
       "'hlowrd'"
      ]
     },
     "execution_count": 54,
     "metadata": {},
     "output_type": "execute_result"
    }
   ],
   "source": [
    "s[::2]"
   ]
  },
  {
   "cell_type": "code",
   "execution_count": 55,
   "id": "0d5d5e1b",
   "metadata": {},
   "outputs": [
    {
     "data": {
      "text/plain": [
       "'drw'"
      ]
     },
     "execution_count": 55,
     "metadata": {},
     "output_type": "execute_result"
    }
   ],
   "source": [
    "s[:5:-2]"
   ]
  },
  {
   "cell_type": "code",
   "execution_count": 56,
   "id": "f2d39387",
   "metadata": {},
   "outputs": [
    {
     "data": {
      "text/plain": [
       "'d h'"
      ]
     },
     "execution_count": 56,
     "metadata": {},
     "output_type": "execute_result"
    }
   ],
   "source": [
    "s[::-5]"
   ]
  },
  {
   "cell_type": "code",
   "execution_count": 58,
   "id": "2b6177d8",
   "metadata": {},
   "outputs": [],
   "source": [
    "#FUNCTIONS\n",
    "#introducing a functions.\n",
    "#what is a funcion in phython and how to create a function?\n",
    "#function is one of our main building blocks when we construct larger and larger amount of code to solve problems.\n",
    "#so what is a function?\n",
    "#a function groupp a set of statements together to run the statements more than once.it allows us to spacify parameters that can srve as inputs to the functions.\n",
    "\n"
   ]
  },
  {
   "cell_type": "code",
   "execution_count": 59,
   "id": "472e1de1",
   "metadata": {},
   "outputs": [],
   "source": [
    "#functions allow us to reuse the code instead of writing the code again and again.if you recall strings and list remember that len()function is used to find the length of string.\n",
    "#since checkig the length of a sequence is a common tast, you would want to write a function that can do this  repeadtedly at command.\n",
    "\n",
    "#function is one of the most basuc leel of reusing code iin phyton ,and it will also allow us to start thinking of program design.\n"
   ]
  },
  {
   "cell_type": "code",
   "execution_count": 60,
   "id": "c207c4b1",
   "metadata": {},
   "outputs": [],
   "source": [
    "#def statement.\n",
    "#now let us learn how to build a function and what is the syntax in phythons.\n",
    "#the syntax for def statements wil be in the following from:\n",
    "\n",
    "#def name of function (arg1,arg2)\n",
    "\n",
    "#this is where the  function's document \n",
    "#string(doc-string)goes."
   ]
  },
  {
   "cell_type": "code",
   "execution_count": 61,
   "id": "e61518cf",
   "metadata": {},
   "outputs": [],
   "source": [
    "def say_hello():\n",
    "    print('this is just a sample')"
   ]
  },
  {
   "cell_type": "code",
   "execution_count": 62,
   "id": "c3d4cf7e",
   "metadata": {},
   "outputs": [
    {
     "name": "stdout",
     "output_type": "stream",
     "text": [
      "this is just a sample\n"
     ]
    }
   ],
   "source": [
    "say_hello()"
   ]
  },
  {
   "cell_type": "code",
   "execution_count": 65,
   "id": "320acf0e",
   "metadata": {},
   "outputs": [],
   "source": [
    "def greeting(name):\n",
    "    print('hello',name)\n",
    "    print('hello %s' %name)"
   ]
  },
  {
   "cell_type": "code",
   "execution_count": 66,
   "id": "ec298d6b",
   "metadata": {},
   "outputs": [
    {
     "name": "stdout",
     "output_type": "stream",
     "text": [
      "hello dear_students\n",
      "hello dear_students\n"
     ]
    }
   ],
   "source": [
    "greeting('dear_students')"
   ]
  },
  {
   "cell_type": "code",
   "execution_count": 67,
   "id": "733cb6ed",
   "metadata": {},
   "outputs": [],
   "source": [
    "#salary update example\n",
    "def salary_incr(salary):\n",
    "    \n",
    "    if salary <=9000:\n",
    "        return(salary+1000)\n",
    "    else:\n",
    "        return salary"
   ]
  },
  {
   "cell_type": "code",
   "execution_count": 69,
   "id": "f457c33d",
   "metadata": {},
   "outputs": [
    {
     "name": "stdout",
     "output_type": "stream",
     "text": [
      "your new salary= 9500\n"
     ]
    }
   ],
   "source": [
    "print('your new salary=',salary_incr(8500))"
   ]
  },
  {
   "cell_type": "code",
   "execution_count": null,
   "id": "c264edf1",
   "metadata": {},
   "outputs": [],
   "source": []
  }
 ],
 "metadata": {
  "kernelspec": {
   "display_name": "Python 3 (ipykernel)",
   "language": "python",
   "name": "python3"
  },
  "language_info": {
   "codemirror_mode": {
    "name": "ipython",
    "version": 3
   },
   "file_extension": ".py",
   "mimetype": "text/x-python",
   "name": "python",
   "nbconvert_exporter": "python",
   "pygments_lexer": "ipython3",
   "version": "3.9.7"
  }
 },
 "nbformat": 4,
 "nbformat_minor": 5
}
