{
 "cells": [
  {
   "cell_type": "code",
   "execution_count": 7,
   "id": "6041c270",
   "metadata": {},
   "outputs": [
    {
     "name": "stdout",
     "output_type": "stream",
     "text": [
      "it is something else\n"
     ]
    }
   ],
   "source": [
    "i=13\n",
    "\n",
    "if i<13:\n",
    "    print('less than 13')\n",
    "    \n",
    "elif i>15:\n",
    "        print('more than 15')\n",
    "        \n",
    "else:\n",
    "            print('it is something else')"
   ]
  },
  {
   "cell_type": "code",
   "execution_count": 16,
   "id": "a7f6f57f",
   "metadata": {},
   "outputs": [
    {
     "name": "stdout",
     "output_type": "stream",
     "text": [
      "pass\n"
     ]
    }
   ],
   "source": [
    "marks=48\n",
    "if marks>60:\n",
    "    if marks<70:\n",
    "        print('distinction')\n",
    "    else:\n",
    "        print('first class')\n",
    "elif marks>50 and marks<=60:\n",
    "    print('second class')\n",
    "elif marks>=35:\n",
    "    print('pass')\n",
    "else:\n",
    "    print('fail-better luck next time')"
   ]
  },
  {
   "cell_type": "code",
   "execution_count": 15,
   "id": "75af2ad8",
   "metadata": {},
   "outputs": [
    {
     "name": "stdout",
     "output_type": "stream",
     "text": [
      "pass\n"
     ]
    }
   ],
   "source": [
    "marks=48\n",
    "if marks>60:\n",
    "    if marks<70:\n",
    "        print('distinction')\n",
    "    else:\n",
    "            print('first class')\n",
    "elif marks>50and marks<=60:\n",
    "    print('second class')\n",
    "elif marks>=35:\n",
    "    print('pass')\n",
    "else:\n",
    "    print('fail')"
   ]
  },
  {
   "cell_type": "code",
   "execution_count": 21,
   "id": "5396331d",
   "metadata": {},
   "outputs": [
    {
     "ename": "NameError",
     "evalue": "name 'students_scores' is not defined",
     "output_type": "error",
     "traceback": [
      "\u001b[1;31m---------------------------------------------------------------------------\u001b[0m",
      "\u001b[1;31mNameError\u001b[0m                                 Traceback (most recent call last)",
      "\u001b[1;32m~\\AppData\\Local\\Temp/ipykernel_7568/3197565894.py\u001b[0m in \u001b[0;36m<module>\u001b[1;34m\u001b[0m\n\u001b[0;32m      1\u001b[0m \u001b[0mstudents_score\u001b[0m\u001b[1;33m=\u001b[0m\u001b[1;33m[\u001b[0m\u001b[1;36m35\u001b[0m\u001b[1;33m,\u001b[0m\u001b[1;36m67\u001b[0m\u001b[1;33m,\u001b[0m\u001b[1;36m78\u001b[0m\u001b[1;33m,\u001b[0m\u001b[1;36m79\u001b[0m\u001b[1;33m,\u001b[0m\u001b[1;36m12\u001b[0m\u001b[1;33m,\u001b[0m\u001b[1;36m34\u001b[0m\u001b[1;33m,\u001b[0m\u001b[1;36m67\u001b[0m\u001b[1;33m,\u001b[0m\u001b[1;36m54\u001b[0m\u001b[1;33m,\u001b[0m\u001b[1;36m89\u001b[0m\u001b[1;33m]\u001b[0m\u001b[1;33m\u001b[0m\u001b[1;33m\u001b[0m\u001b[0m\n\u001b[1;32m----> 2\u001b[1;33m \u001b[1;32mfor\u001b[0m \u001b[0mmarks\u001b[0m \u001b[1;32min\u001b[0m \u001b[0mstudents_scores\u001b[0m\u001b[1;33m:\u001b[0m\u001b[1;33m\u001b[0m\u001b[1;33m\u001b[0m\u001b[0m\n\u001b[0m\u001b[0;32m      3\u001b[0m     \u001b[1;32mif\u001b[0m \u001b[0mmarks\u001b[0m  \u001b[1;33m>\u001b[0m\u001b[1;36m60\u001b[0m\u001b[1;33m:\u001b[0m\u001b[1;33m\u001b[0m\u001b[1;33m\u001b[0m\u001b[0m\n\u001b[0;32m      4\u001b[0m         \u001b[1;32mif\u001b[0m \u001b[0mmarks\u001b[0m \u001b[1;33m<\u001b[0m\u001b[1;36m70\u001b[0m\u001b[1;33m:\u001b[0m\u001b[1;33m\u001b[0m\u001b[1;33m\u001b[0m\u001b[0m\n\u001b[0;32m      5\u001b[0m             \u001b[0mprint\u001b[0m\u001b[1;33m(\u001b[0m\u001b[1;34m'distinction'\u001b[0m\u001b[1;33m)\u001b[0m\u001b[1;33m\u001b[0m\u001b[1;33m\u001b[0m\u001b[0m\n",
      "\u001b[1;31mNameError\u001b[0m: name 'students_scores' is not defined"
     ]
    }
   ],
   "source": [
    "students_score=[35,67,78,79,12,34,67,54,89]\n",
    "for marks in students_scores:\n",
    "    if marks  >60:\n",
    "        if marks <70:\n",
    "            print('distinction')\n",
    "        else:\n",
    "                print('first class')\n",
    "    elif marks>50 and marks <=60:\n",
    "        print('second class')\n",
    "    elif marks >=35:\n",
    "        print('pass')\n",
    "    else:\n",
    "        print('fail')"
   ]
  },
  {
   "cell_type": "code",
   "execution_count": null,
   "id": "1f08afce",
   "metadata": {},
   "outputs": [],
   "source": []
  }
 ],
 "metadata": {
  "kernelspec": {
   "display_name": "Python 3 (ipykernel)",
   "language": "python",
   "name": "python3"
  },
  "language_info": {
   "codemirror_mode": {
    "name": "ipython",
    "version": 3
   },
   "file_extension": ".py",
   "mimetype": "text/x-python",
   "name": "python",
   "nbconvert_exporter": "python",
   "pygments_lexer": "ipython3",
   "version": "3.9.7"
  }
 },
 "nbformat": 4,
 "nbformat_minor": 5
}
