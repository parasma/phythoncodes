{
 "cells": [
  {
   "cell_type": "code",
   "execution_count": null,
   "id": "9a46d54c",
   "metadata": {},
   "outputs": [],
   "source": [
    "\n",
    "\n"
   ]
  },
  {
   "cell_type": "code",
   "execution_count": null,
   "id": "75d6ca1a",
   "metadata": {},
   "outputs": [],
   "source": []
  },
  {
   "cell_type": "code",
   "execution_count": 1,
   "id": "529a3223",
   "metadata": {},
   "outputs": [],
   "source": [
    "#with multiple arguments(adding students marks)\n",
    "def stud_marks(maths,science,english):\n",
    "    return(maths+science+english)"
   ]
  },
  {
   "cell_type": "code",
   "execution_count": 2,
   "id": "68e450cb",
   "metadata": {},
   "outputs": [
    {
     "name": "stdout",
     "output_type": "stream",
     "text": [
      "your total marks= 200\n"
     ]
    }
   ],
   "source": [
    "print('your total marks=',stud_marks(55,65,80))"
   ]
  },
  {
   "cell_type": "code",
   "execution_count": 3,
   "id": "a3620301",
   "metadata": {},
   "outputs": [
    {
     "data": {
      "text/plain": [
       "82"
      ]
     },
     "execution_count": 3,
     "metadata": {},
     "output_type": "execute_result"
    }
   ],
   "source": [
    "dharmesh_marks=stud_marks(32,30,20)\n",
    "dharmesh_marks"
   ]
  },
  {
   "cell_type": "code",
   "execution_count": 4,
   "id": "970c407d",
   "metadata": {},
   "outputs": [
    {
     "name": "stdout",
     "output_type": "stream",
     "text": [
      "dharmesh you are just pass\n"
     ]
    }
   ],
   "source": [
    "if dharmesh_marks<90:\n",
    "    print('dharmesh you are just pass')\n",
    "elif dharmesh_marks>90 and dharmesh_marks<150:\n",
    "    print('dharmesh you are pass with good marks')\n",
    "elif dharmesh_marks>151 and dharmesh_marks<250:\n",
    "    print('dharmesh you are first in class')\n",
    "else:\n",
    "    print('dharmesh you are distinction')"
   ]
  },
  {
   "cell_type": "code",
   "execution_count": 8,
   "id": "cdfe948b",
   "metadata": {},
   "outputs": [
    {
     "data": {
      "text/plain": [
       "82"
      ]
     },
     "execution_count": 8,
     "metadata": {},
     "output_type": "execute_result"
    }
   ],
   "source": [
    "dharmesh_marks"
   ]
  },
  {
   "cell_type": "code",
   "execution_count": 16,
   "id": "3af53046",
   "metadata": {},
   "outputs": [
    {
     "data": {
      "text/plain": [
       "253"
      ]
     },
     "execution_count": 16,
     "metadata": {},
     "output_type": "execute_result"
    }
   ],
   "source": [
    "raghav_marks=stud_marks(95,78,80)\n",
    "raghav_marks"
   ]
  },
  {
   "cell_type": "code",
   "execution_count": 19,
   "id": "334f6db8",
   "metadata": {},
   "outputs": [
    {
     "name": "stdout",
     "output_type": "stream",
     "text": [
      "raghav your total marks are 253 and you got distinction\n"
     ]
    }
   ],
   "source": [
    "if raghav_marks<90:\n",
    "    print('raghav your total marks are',raghav_marks,'and you are just pass')\n",
    "elif raghav_marks>90 and raghav_marks<150:\n",
    "    print('raghavv your total marks are',raghav_marks,'and you are pass')\n",
    "elif raghav_marks>151 and raghav_marks<250:\n",
    "    print('raghav your total marks are',raghav_marks,'and you got first class') \n",
    "else:\n",
    "     print('raghav your total marks are',raghav_marks,'and you got distinction')     \n",
    "          \n"
   ]
  },
  {
   "cell_type": "raw",
   "id": "323d4eef",
   "metadata": {},
   "source": []
  },
  {
   "cell_type": "code",
   "execution_count": 20,
   "id": "bd15ece7",
   "metadata": {},
   "outputs": [
    {
     "name": "stdout",
     "output_type": "stream",
     "text": [
      "mathsscienceenglish\n"
     ]
    }
   ],
   "source": [
    "#similarly you can pass every students marks and find the total and display result\n",
    "#what happen if we input two strings?\n",
    "print(stud_marks('maths','science','english'))"
   ]
  },
  {
   "cell_type": "code",
   "execution_count": 21,
   "id": "4ac68a50",
   "metadata": {},
   "outputs": [],
   "source": [
    "#in phythonn we dont declare variable types,this function could be used to add numbers or sequence together,going forward ,we'll learn about adding in checks to make sure a user puts in the correct arguments into a function.\n",
    "#now lets see a commplete example of creating a function to check if a number is even then sqaure it else print its not a even number.\n",
    "\n"
   ]
  },
  {
   "cell_type": "code",
   "execution_count": 1,
   "id": "f876a6c3",
   "metadata": {},
   "outputs": [],
   "source": [
    "def sqre(number):\n",
    "    for n in range(2,number):\n",
    "        if n%2 ==0:\n",
    "            print('squared',n**2)\n",
    "    else:\n",
    "        print('it is not an even number',n)"
   ]
  },
  {
   "cell_type": "code",
   "execution_count": 2,
   "id": "2142737f",
   "metadata": {},
   "outputs": [
    {
     "name": "stdout",
     "output_type": "stream",
     "text": [
      "squared 4\n",
      "squared 16\n",
      "it is not an even number 5\n"
     ]
    }
   ],
   "source": [
    "sqre(6)"
   ]
  },
  {
   "cell_type": "code",
   "execution_count": 5,
   "id": "200fd572",
   "metadata": {},
   "outputs": [
    {
     "data": {
      "text/plain": [
       "<function __main__.<lambda>(arguments)>"
      ]
     },
     "execution_count": 5,
     "metadata": {},
     "output_type": "execute_result"
    }
   ],
   "source": [
    "#lambda function\n",
    "lambda arguments:expressions"
   ]
  },
  {
   "cell_type": "code",
   "execution_count": 6,
   "id": "a8334e94",
   "metadata": {},
   "outputs": [
    {
     "name": "stdout",
     "output_type": "stream",
     "text": [
      "80\n"
     ]
    }
   ],
   "source": [
    "add_num=lambda y:y+30\n",
    "print(add_num(50))"
   ]
  },
  {
   "cell_type": "code",
   "execution_count": 7,
   "id": "bfcb8d67",
   "metadata": {},
   "outputs": [
    {
     "name": "stdout",
     "output_type": "stream",
     "text": [
      "300\n"
     ]
    }
   ],
   "source": [
    "##multiple arguments\n",
    "multi_num=lambda a,b:a*b\n",
    "print(multi_num(15,20))\n"
   ]
  },
  {
   "cell_type": "code",
   "execution_count": 8,
   "id": "77e68aa0",
   "metadata": {},
   "outputs": [],
   "source": [
    "#lambda  is a one time function, we cannot call it again and again in the sheet.\n"
   ]
  },
  {
   "cell_type": "code",
   "execution_count": 9,
   "id": "9f4a8127",
   "metadata": {},
   "outputs": [],
   "source": [
    "#  *arg takes multiple inputs\n"
   ]
  },
  {
   "cell_type": "raw",
   "id": "be464241",
   "metadata": {},
   "source": []
  },
  {
   "cell_type": "code",
   "execution_count": 21,
   "id": "3947cf6f",
   "metadata": {},
   "outputs": [],
   "source": [
    "def my_func(*args):\n",
    "    for i in args:\n",
    "        print('my args:-',i)"
   ]
  },
  {
   "cell_type": "code",
   "execution_count": 22,
   "id": "9664f6ba",
   "metadata": {},
   "outputs": [
    {
     "name": "stdout",
     "output_type": "stream",
     "text": [
      "my args:- india\n",
      "my args:- 56\n",
      "my args:- bengaluru\n",
      "my args:- 30.4\n",
      "my args:- 234\n"
     ]
    }
   ],
   "source": [
    "my_func('india',56,'bengaluru',30.40,234)"
   ]
  },
  {
   "cell_type": "code",
   "execution_count": 28,
   "id": "248cf9b1",
   "metadata": {},
   "outputs": [],
   "source": [
    "def my_kwargs(**kwargs):\n",
    "    for key,values in kwargs.items():\n",
    "        print(key,value)"
   ]
  },
  {
   "cell_type": "code",
   "execution_count": 2,
   "id": "ede01f21",
   "metadata": {},
   "outputs": [
    {
     "ename": "NameError",
     "evalue": "name 'my_kwargs' is not defined",
     "output_type": "error",
     "traceback": [
      "\u001b[1;31m---------------------------------------------------------------------------\u001b[0m",
      "\u001b[1;31mNameError\u001b[0m                                 Traceback (most recent call last)",
      "\u001b[1;32m~\\AppData\\Local\\Temp/ipykernel_4584/1376875719.py\u001b[0m in \u001b[0;36m<module>\u001b[1;34m\u001b[0m\n\u001b[1;32m----> 1\u001b[1;33m \u001b[0mmy_kwargs\u001b[0m\u001b[1;33m(\u001b[0m\u001b[0mstudents\u001b[0m\u001b[1;33m[\u001b[0m\u001b[1;34m'ram'\u001b[0m\u001b[1;33m,\u001b[0m\u001b[1;34m'shivu'\u001b[0m\u001b[1;33m]\u001b[0m\u001b[1;33m)\u001b[0m\u001b[1;33m,\u001b[0m\u001b[0mmarks\u001b[0m\u001b[1;33m[\u001b[0m\u001b[1;36m70\u001b[0m\u001b[1;33m,\u001b[0m\u001b[1;36m75\u001b[0m\u001b[1;33m]\u001b[0m\u001b[1;33m\u001b[0m\u001b[1;33m\u001b[0m\u001b[0m\n\u001b[0m",
      "\u001b[1;31mNameError\u001b[0m: name 'my_kwargs' is not defined"
     ]
    }
   ],
   "source": [
    "my_kwargs(students['ram','shivu']),marks[70,75]"
   ]
  },
  {
   "cell_type": "code",
   "execution_count": 32,
   "id": "240054b1",
   "metadata": {},
   "outputs": [],
   "source": [
    "#MAP\n",
    "#the map()is a function that takes into two arguments:\n",
    "#1.a function\n",
    "#2.a sequence iterable\n",
    "#in the form: map (function,sequence)\n",
    "#the fisrt argument is the name of a function and the second a sequence (e.g. a list).\n",
    "#map()applies the function to all the elements of the sequence.it returns a new list with the elements changes by the functions.\n",
    "#we'll start with two functions:\n"
   ]
  },
  {
   "cell_type": "code",
   "execution_count": 49,
   "id": "634f83e6",
   "metadata": {},
   "outputs": [],
   "source": [
    "def total_marks(marks):\n",
    "    if marks ==30:\n",
    "        return (marks+5)\n",
    "    elif marks ==31:\n",
    "        return (marks+4)\n",
    "    elif marks ==32:\n",
    "        return (marks+3)\n",
    "    elif marks ==33:\n",
    "        return (marks+2)\n",
    "    elif marks ==34:\n",
    "        return (marks+1)\n",
    "    else:\n",
    "        return (marks)"
   ]
  },
  {
   "cell_type": "code",
   "execution_count": 50,
   "id": "f9dc1f07",
   "metadata": {},
   "outputs": [],
   "source": [
    "score=[45,50,30,60,32,30,32,33,31,35]"
   ]
  },
  {
   "cell_type": "code",
   "execution_count": 51,
   "id": "a4e41194",
   "metadata": {},
   "outputs": [],
   "source": [
    "total=list(map(total_marks,score))"
   ]
  },
  {
   "cell_type": "code",
   "execution_count": 52,
   "id": "d0c458c3",
   "metadata": {},
   "outputs": [
    {
     "data": {
      "text/plain": [
       "[45, 50, 35, 60, 35, 35, 35, 35, 35, 35]"
      ]
     },
     "execution_count": 52,
     "metadata": {},
     "output_type": "execute_result"
    }
   ],
   "source": [
    "total"
   ]
  },
  {
   "cell_type": "code",
   "execution_count": 53,
   "id": "7202b456",
   "metadata": {},
   "outputs": [
    {
     "data": {
      "text/plain": [
       "7"
      ]
     },
     "execution_count": 53,
     "metadata": {},
     "output_type": "execute_result"
    }
   ],
   "source": [
    "#COUNT of students who got grace marks\n",
    "total.count (35)"
   ]
  },
  {
   "cell_type": "code",
   "execution_count": 54,
   "id": "3d279069",
   "metadata": {},
   "outputs": [],
   "source": [
    "#FILTER\n",
    "#the function filter (fumction,list)offers a convinent wayto filter out all the elemenst of the iterable ,for which the function returns ''true''.\n",
    "#the function filter (function(),1)need a function as its first argumensts.the functions needs to boolean value(either true or false).this function will be applied to every elements of the iterable.only if the function returns ''true''will be element of the iterble be included in the result..\n",
    "#lets see some examples:\n",
    "#filter lets make a function."
   ]
  },
  {
   "cell_type": "code",
   "execution_count": null,
   "id": "11d52080",
   "metadata": {},
   "outputs": [],
   "source": []
  },
  {
   "cell_type": "code",
   "execution_count": 68,
   "id": "49cdf620",
   "metadata": {},
   "outputs": [],
   "source": [
    "#now lets filter a list of numbers.note that putting the function into filter without any prenthesis might feel strange,but keep in mind that  functions  are object as well.\n"
   ]
  },
  {
   "cell_type": "code",
   "execution_count": 70,
   "id": "b18fcce7",
   "metadata": {},
   "outputs": [],
   "source": [
    "def even_check(num):\n",
    "    if num%2==0:\n",
    "        return True"
   ]
  },
  {
   "cell_type": "code",
   "execution_count": 3,
   "id": "18632a89",
   "metadata": {},
   "outputs": [
    {
     "ename": "NameError",
     "evalue": "name 'even_check' is not defined",
     "output_type": "error",
     "traceback": [
      "\u001b[1;31m---------------------------------------------------------------------------\u001b[0m",
      "\u001b[1;31mNameError\u001b[0m                                 Traceback (most recent call last)",
      "\u001b[1;32m~\\AppData\\Local\\Temp/ipykernel_4584/1926802615.py\u001b[0m in \u001b[0;36m<module>\u001b[1;34m\u001b[0m\n\u001b[0;32m      1\u001b[0m \u001b[0mlst\u001b[0m\u001b[1;33m=\u001b[0m\u001b[0mrange\u001b[0m\u001b[1;33m(\u001b[0m\u001b[1;36m40\u001b[0m\u001b[1;33m)\u001b[0m\u001b[1;33m\u001b[0m\u001b[1;33m\u001b[0m\u001b[0m\n\u001b[1;32m----> 2\u001b[1;33m \u001b[0mlist\u001b[0m\u001b[1;33m(\u001b[0m\u001b[0mfilter\u001b[0m\u001b[1;33m(\u001b[0m\u001b[0meven_check\u001b[0m\u001b[1;33m,\u001b[0m\u001b[0mlst\u001b[0m\u001b[1;33m)\u001b[0m\u001b[1;33m)\u001b[0m\u001b[1;33m\u001b[0m\u001b[1;33m\u001b[0m\u001b[0m\n\u001b[0m",
      "\u001b[1;31mNameError\u001b[0m: name 'even_check' is not defined"
     ]
    }
   ],
   "source": [
    "lst=range(40)\n",
    "list(filter(even_check,lst))"
   ]
  },
  {
   "cell_type": "code",
   "execution_count": 4,
   "id": "b2769a10",
   "metadata": {},
   "outputs": [],
   "source": [
    "#filter()is more commonly used with lambda function,this because we usually we filter for a quick job where we dont want to write an entire funcion.lets repeat the example above using a lambda expression.\n",
    "\n"
   ]
  },
  {
   "cell_type": "code",
   "execution_count": 5,
   "id": "ac28eecb",
   "metadata": {},
   "outputs": [
    {
     "data": {
      "text/plain": [
       "[0, 2, 4, 6, 8, 10, 12, 14, 16, 18, 20, 22, 24, 26, 28, 30, 32, 34, 36, 38]"
      ]
     },
     "execution_count": 5,
     "metadata": {},
     "output_type": "execute_result"
    }
   ],
   "source": [
    "list(filter(lambda x:x%2==0,lst))"
   ]
  },
  {
   "cell_type": "code",
   "execution_count": 76,
   "id": "9086cc58",
   "metadata": {},
   "outputs": [],
   "source": [
    "#who scored less than 35\n",
    "def total_marks(marks):\n",
    "    if marks <35:\n",
    "        return marks"
   ]
  },
  {
   "cell_type": "code",
   "execution_count": 78,
   "id": "fbe7081b",
   "metadata": {},
   "outputs": [],
   "source": [
    "score=[45,50,30,60,32,30,32,33,31,35]"
   ]
  },
  {
   "cell_type": "code",
   "execution_count": 8,
   "id": "8c51023c",
   "metadata": {},
   "outputs": [
    {
     "ename": "NameError",
     "evalue": "name 'total_marks' is not defined",
     "output_type": "error",
     "traceback": [
      "\u001b[1;31m---------------------------------------------------------------------------\u001b[0m",
      "\u001b[1;31mNameError\u001b[0m                                 Traceback (most recent call last)",
      "\u001b[1;32m~\\AppData\\Local\\Temp/ipykernel_4584/835606792.py\u001b[0m in \u001b[0;36m<module>\u001b[1;34m\u001b[0m\n\u001b[1;32m----> 1\u001b[1;33m \u001b[0mfailed\u001b[0m\u001b[1;33m=\u001b[0m\u001b[0mlist\u001b[0m\u001b[1;33m(\u001b[0m\u001b[0mfilter\u001b[0m\u001b[1;33m(\u001b[0m\u001b[0mtotal_marks\u001b[0m\u001b[1;33m,\u001b[0m\u001b[0mscore\u001b[0m\u001b[1;33m)\u001b[0m\u001b[1;33m)\u001b[0m\u001b[1;33m\u001b[0m\u001b[1;33m\u001b[0m\u001b[0m\n\u001b[0m",
      "\u001b[1;31mNameError\u001b[0m: name 'total_marks' is not defined"
     ]
    }
   ],
   "source": [
    "failed=list(filter(total_marks,score))"
   ]
  },
  {
   "cell_type": "code",
   "execution_count": 9,
   "id": "dcf6aac7",
   "metadata": {},
   "outputs": [
    {
     "ename": "NameError",
     "evalue": "name 'failed' is not defined",
     "output_type": "error",
     "traceback": [
      "\u001b[1;31m---------------------------------------------------------------------------\u001b[0m",
      "\u001b[1;31mNameError\u001b[0m                                 Traceback (most recent call last)",
      "\u001b[1;32m~\\AppData\\Local\\Temp/ipykernel_4584/2686784512.py\u001b[0m in \u001b[0;36m<module>\u001b[1;34m\u001b[0m\n\u001b[1;32m----> 1\u001b[1;33m \u001b[0mfailed\u001b[0m\u001b[1;33m\u001b[0m\u001b[1;33m\u001b[0m\u001b[0m\n\u001b[0m",
      "\u001b[1;31mNameError\u001b[0m: name 'failed' is not defined"
     ]
    }
   ],
   "source": [
    "failed"
   ]
  },
  {
   "cell_type": "code",
   "execution_count": null,
   "id": "d1f01a63",
   "metadata": {},
   "outputs": [],
   "source": []
  }
 ],
 "metadata": {
  "kernelspec": {
   "display_name": "Python 3 (ipykernel)",
   "language": "python",
   "name": "python3"
  },
  "language_info": {
   "codemirror_mode": {
    "name": "ipython",
    "version": 3
   },
   "file_extension": ".py",
   "mimetype": "text/x-python",
   "name": "python",
   "nbconvert_exporter": "python",
   "pygments_lexer": "ipython3",
   "version": "3.9.7"
  }
 },
 "nbformat": 4,
 "nbformat_minor": 5
}
